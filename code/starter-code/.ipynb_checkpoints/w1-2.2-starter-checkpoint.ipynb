{
 "cells": [
  {
   "cell_type": "code",
   "execution_count": null,
   "metadata": {
    "collapsed": true
   },
   "outputs": [],
   "source": [
    "# write a function with one argument. Find the area of a square. \n",
    "def areaSquare(side): \n",
    "    return side ** 2"
   ]
  },
  {
   "cell_type": "code",
   "execution_count": 2,
   "metadata": {
    "collapsed": false
   },
   "outputs": [],
   "source": [
    "# write a function with two arguments. Find the area of a rectangle. \n",
    "def areaRect(length,breadth):\n",
    "    return length * width"
   ]
  },
  {
   "cell_type": "code",
   "execution_count": 1,
   "metadata": {
    "collapsed": false
   },
   "outputs": [],
   "source": [
    "# write a function with three arguments. Find the surface area of cuboid.\n",
    "def surfaceAreaCuboid(length,breadth,height): \n",
    "    return 2*(length*breadth+breadth*height+length*height)\n"
   ]
  },
  {
   "cell_type": "code",
   "execution_count": null,
   "metadata": {
    "collapsed": true
   },
   "outputs": [],
   "source": [
    "#BONUSES\n",
    "def max(a,b,c):\n",
    "    if a > b and a > c:\n",
    "        return a\n",
    "    elif b > c:\n",
    "        return b\n",
    "    else:\n",
    "        return c\n",
    "\n",
    "def sum_list(lst):\n",
    "    count = 0\n",
    "    for x in lst:\n",
    "        count += x\n",
    "    return count\n",
    "\n",
    "def mult_list(lst):\n",
    "    count = 1\n",
    "    for x in lst:\n",
    "        count *= x\n",
    "    return count\n",
    "\n",
    "\n",
    "\n",
    "def reverse_string(string):\n",
    "    return string[::-1]\n",
    "    \n",
    "def factorial(number):\n",
    "    if number == 0:\n",
    "        return 0\n",
    "    fac = 1\n",
    "    for x in range(1,number + 1):\n",
    "        fac *= x\n",
    "    return fac\n",
    "\n",
    "#directions sort of unclear?\n",
    "def in_range(number):\n",
    "    return (number >= 3 and number <= 9)\n",
    "        \n",
    "def count_upper_lower(string):\n",
    "    upper = 0\n",
    "    lower = 0\n",
    "    \n",
    "    for x in string:\n",
    "        if x.isupper():\n",
    "            upper += 1\n",
    "        elif x.islower():\n",
    "            lower += 1\n",
    "    print \"Upper: %s\" % upper\n",
    "    print \"lower: %s\" % lower\n",
    " \n",
    "\n",
    "def unique_list(lst):\n",
    "    uniques = []\n",
    "    for x in lst:\n",
    "        if x not in uniques:\n",
    "            uniques.append(x)\n",
    "\n",
    "    return uniques\n",
    "        \n",
    "def is_prime(number):\n",
    "    if number <= 1:\n",
    "        return False\n",
    "    for x in range(2,number):\n",
    "        if number % x == 0:\n",
    "            return False\n",
    "    return True\n",
    "\n",
    "def even_numbers(lst):\n",
    "    newlst = [x for x in lst if x % 2 == 0]\n",
    "    print newlst\n",
    "    \n",
    "#OUTPUTTING\n",
    "print \"max: %s\" % max(2,1,2)\n",
    "sample_list = (8,2,3,0,7)\n",
    "sample_list2 = (8, 2, 3, -1, 7)\n",
    "sample_string = \"1234abcd\"\n",
    "\n",
    "print \"sum_list: %s\" % sum_list(sample_list)\n",
    "print \"mult_list: %s\" % mult_list(sample_list2)\n",
    "print \"reverse_string: %s\" % reverse_string(sample_string)\n",
    "print \"factorial: %s\" % factorial(10)\n",
    "count_upper_lower('The quick Brow Fox')\n",
    "print unique_list([1,2,3,3,3,3,4,5])\n",
    "print \"Prime? %s\" % is_prime(17)\n",
    "even_numbers([1,2,3,4,5,6,7,8,9])\n"
   ]
  },
  {
   "cell_type": "code",
   "execution_count": null,
   "metadata": {
    "collapsed": true
   },
   "outputs": [],
   "source": []
  }
 ],
 "metadata": {
  "anaconda-cloud": {},
  "kernelspec": {
   "display_name": "Python [default]",
   "language": "python",
   "name": "python2"
  },
  "language_info": {
   "codemirror_mode": {
    "name": "ipython",
    "version": 2
   },
   "file_extension": ".py",
   "mimetype": "text/x-python",
   "name": "python",
   "nbconvert_exporter": "python",
   "pygments_lexer": "ipython2",
   "version": "2.7.12"
  }
 },
 "nbformat": 4,
 "nbformat_minor": 0
}
